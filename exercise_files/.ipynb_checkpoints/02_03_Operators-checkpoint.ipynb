{
 "cells": [
  {
   "cell_type": "markdown",
   "id": "30d9684d",
   "metadata": {},
   "source": [
    "## Arithmetic Operators "
   ]
  },
  {
   "cell_type": "code",
   "execution_count": 2,
   "id": "f4a9a1bc",
   "metadata": {},
   "outputs": [
    {
     "name": "stdout",
     "output_type": "stream",
     "text": [
      "5\n",
      "8\n",
      "Hello World\n"
     ]
    }
   ],
   "source": [
    "# Addition\n",
    "\n",
    "x = 5\n",
    "y = 3\n",
    "print(x + y)  # Output: 8\n",
    "\n",
    "a = \"Hello\"\n",
    "b = \"World\"\n",
    "print(a + \" \" + b)  # Output: \"Hello World\"\n",
    "\n",
    "'string 1 ' + 'string 2' # Output: 'string 1 string 2'"
   ]
  },
  {
   "cell_type": "code",
   "execution_count": null,
   "id": "e93315a8",
   "metadata": {},
   "outputs": [],
   "source": [
    "# Subtraction\n",
    "\n",
    "x = 5\n",
    "y = 3\n",
    "print( x - y )  # Output: 2\n",
    "\n",
    "a = \"Hello\"\n",
    "b = \"World\"\n",
    "print( a - b )  # Error: unsupported operand type(s) for -: 'str' and 'str'"
   ]
  },
  {
   "cell_type": "code",
   "execution_count": 4,
   "id": "6e14dea6",
   "metadata": {},
   "outputs": [
    {
     "name": "stdout",
     "output_type": "stream",
     "text": [
      "15\n",
      "HelloHelloHello\n"
     ]
    }
   ],
   "source": [
    "# Multiplication\n",
    "\n",
    "x = 5\n",
    "y = 3\n",
    "print(x * y)  # Output: 15\n",
    "\n",
    "a = \"Hello\"\n",
    "print(a * 3)  # Output: \"HelloHelloHello\"\n",
    "\n",
    "print ('- string 1 - ' * 4) # Output: '- string 1 - - string 1 - - string 1 - - string 1 - '"
   ]
  },
  {
   "cell_type": "code",
   "execution_count": 3,
   "id": "5b1a4e73",
   "metadata": {},
   "outputs": [
    {
     "data": {
      "text/plain": [
       "25"
      ]
     },
     "execution_count": 3,
     "metadata": {},
     "output_type": "execute_result"
    }
   ],
   "source": [
    "# Exponentiation\n",
    "\n",
    "x = 2\n",
    "y = 3\n",
    "print(x ** y)  # Output: 8"
   ]
  },
  {
   "cell_type": "code",
   "execution_count": 4,
   "id": "e8d2c9be",
   "metadata": {},
   "outputs": [
    {
     "data": {
      "text/plain": [
       "4.0"
      ]
     },
     "execution_count": 4,
     "metadata": {},
     "output_type": "execute_result"
    }
   ],
   "source": [
    "# Division\n",
    "\n",
    "print (10/2)    # Output: 5.0\n",
    "\n",
    "x = 7\n",
    "y = 3\n",
    "print(x / y)  # Output: 2.3333333333333335"
   ]
  },
  {
   "cell_type": "code",
   "execution_count": null,
   "id": "c51807ae",
   "metadata": {},
   "outputs": [],
   "source": [
    "# Integer Division\n",
    "\n",
    "x = 7\n",
    "y = 3\n",
    "print(x // y)  # Output: 2"
   ]
  },
  {
   "cell_type": "code",
   "execution_count": 6,
   "id": "09a73309",
   "metadata": {},
   "outputs": [
    {
     "data": {
      "text/plain": [
       "2"
      ]
     },
     "execution_count": 6,
     "metadata": {},
     "output_type": "execute_result"
    }
   ],
   "source": [
    "# Modulus (Returns the remainder of the first number divided by the second.)\n",
    "\n",
    "x = 7\n",
    "y = 3\n",
    "print(x % y)  # Output: 1"
   ]
  },
  {
   "cell_type": "code",
   "execution_count": 8,
   "id": "ede00e44",
   "metadata": {},
   "outputs": [
    {
     "name": "stdout",
     "output_type": "stream",
     "text": [
      "15\n",
      "27\n",
      "6.0\n"
     ]
    }
   ],
   "source": [
    "print( 6+3*3 ) # 3*3 = 9, 6+9 = 15\n",
    "print( (6+3)*3 ) # 6+3 = 9, 9*3 = 27\n",
    "print( 6/3*3 ) # 6/3 = 2, 2*3 = 6\n",
    "print( (6/(3*3)) ) # 3*3 = 9, 6/9 = 0.6666666666666666"
   ]
  },
  {
   "cell_type": "markdown",
   "id": "5508c805",
   "metadata": {},
   "source": [
    "## Comparison, Logical, and Membership Operators"
   ]
  },
  {
   "cell_type": "markdown",
   "id": "d9ce3a09",
   "metadata": {},
   "source": [
    "### Comparison Operators"
   ]
  },
  {
   "cell_type": "code",
   "execution_count": null,
   "id": "3f56da71",
   "metadata": {},
   "outputs": [],
   "source": [
    "# Assignment Operators Summary\n",
    "\n",
    "print ( True == True ) # Output: True\n",
    "print ( 4 < 5 ) # Output: True\n",
    "print ( 4 > 5 ) # Output: False\n",
    "print ( 4 <= 5 ) # Output: True\n",
    "print ( 4 >= 5 ) # Output: False\n",
    "print ( 4 != 5 ) # Output: True\n",
    "print ( 4 == 5 ) # Output: False"
   ]
  },
  {
   "cell_type": "code",
   "execution_count": null,
   "id": "963319a7",
   "metadata": {},
   "outputs": [],
   "source": [
    "x = 5\n",
    "y = 3 + 2\n",
    "print(x == y)  # Output: True\n",
    "\n",
    "a = \"Hello\"\n",
    "b = \"Hello\"\n",
    "print(a == b)  # Output: True\n",
    "\n",
    "c = [1, 2, 3]\n",
    "d = [1, 2, 3]\n",
    "print(c == d)  # Output: True\n",
    "\n",
    "e = 3\n",
    "f = 3.0\n",
    "print(e == f)  # Output: True (note that the types are different)"
   ]
  },
  {
   "cell_type": "code",
   "execution_count": null,
   "id": "480ddbad",
   "metadata": {},
   "outputs": [],
   "source": [
    "x = 5\n",
    "y = 3\n",
    "print(x < y)  # Output: False\n",
    "\n",
    "a = \"apple\"\n",
    "b = \"banana\"\n",
    "print(a < b)  # Output: True (compares lexicographically) (a is before b in the alphabet, so a < b)\n",
    "\n",
    "c = [1, 2, 3]\n",
    "d = [4, 5, 6]\n",
    "print(c < d)  # Output: True (compares element-wise)\n",
    "\n",
    "e = 3\n",
    "f = 5\n",
    "print(e < f)  # Output: True"
   ]
  },
  {
   "cell_type": "code",
   "execution_count": 9,
   "id": "a881ca52",
   "metadata": {},
   "outputs": [
    {
     "data": {
      "text/plain": [
       "True"
      ]
     },
     "execution_count": 9,
     "metadata": {},
     "output_type": "execute_result"
    }
   ],
   "source": [
    "x = 5\n",
    "y = 3\n",
    "print(x != y)  # Output: True\n",
    "\n",
    "a = \"Hello\"\n",
    "b = \"hello\"\n",
    "print(a != b)  # Output: True (note the case difference)\n",
    "\n",
    "c = [1, 2, 3]\n",
    "d = [1, 2, 4]\n",
    "print(c != d)  # Output: True (note the last element is different)\n",
    "\n",
    "e = 3\n",
    "f = 3\n",
    "print(e != f)  # Output: False (note they are equal)\n"
   ]
  },
  {
   "cell_type": "markdown",
   "id": "81123eb2",
   "metadata": {},
   "source": [
    "### Logical Operators (and, or, not)"
   ]
  },
  {
   "cell_type": "code",
   "execution_count": null,
   "id": "edae2069",
   "metadata": {},
   "outputs": [],
   "source": [
    "print (True and True)       # Output: True\n",
    "print (True and False)      # Output: False\n",
    "print (False and False)     # Output: False\n",
    "print (False and True)      # Output: False\n",
    "print (True or False)       # Output: True\n",
    "print (False or True)       # Output: True\n",
    "print (not True)            # Output: False\n",
    "print (not False)           # Output: True\n",
    "print (not (True and True)) # Output: False\n",
    "print (not (True and False)) # Output: True"
   ]
  },
  {
   "cell_type": "markdown",
   "id": "70fa4623",
   "metadata": {},
   "source": [
    "### Membership Operators"
   ]
  },
  {
   "cell_type": "code",
   "execution_count": null,
   "id": "d7fcbe12",
   "metadata": {},
   "outputs": [],
   "source": [
    "print (1 in [1,2,3,4,5]) # Output: True\n",
    "print (1 not in [1,2,3,4,5]) # Output: False\n",
    "\n",
    "print ('cat' in 'cat in the hat') # Output: True\n",
    "print ('cat' not in 'cat in the hat') # Output: False\n"
   ]
  }
 ],
 "metadata": {
  "kernelspec": {
   "display_name": "Python 3 (ipykernel)",
   "language": "python",
   "name": "python3"
  },
  "language_info": {
   "codemirror_mode": {
    "name": "ipython",
    "version": 3
   },
   "file_extension": ".py",
   "mimetype": "text/x-python",
   "name": "python",
   "nbconvert_exporter": "python",
   "pygments_lexer": "ipython3",
   "version": "3.11.2"
  }
 },
 "nbformat": 4,
 "nbformat_minor": 5
}
