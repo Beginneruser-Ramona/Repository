{
 "cells": [
  {
   "cell_type": "markdown",
   "id": "72e8177d",
   "metadata": {},
   "source": [
    "# Basic Data Types"
   ]
  },
  {
   "cell_type": "markdown",
   "id": "62f373f2",
   "metadata": {},
   "source": [
    "## Defining a Variable"
   ]
  },
  {
   "cell_type": "code",
   "execution_count": 6,
   "id": "c625d1e8",
   "metadata": {},
   "outputs": [
    {
     "name": "stdout",
     "output_type": "stream",
     "text": [
      "<class 'int'>\n",
      "<class 'str'>\n"
     ]
    }
   ],
   "source": [
    "x = 5\n",
    "print (type(x))\n",
    "\n",
    "name = 'Sadra'\n",
    "print (type(name))"
   ]
  },
  {
   "cell_type": "markdown",
   "id": "8b7a8afe",
   "metadata": {},
   "source": [
    "## Numbers"
   ]
  },
  {
   "cell_type": "code",
   "execution_count": 9,
   "id": "66b59611",
   "metadata": {},
   "outputs": [
    {
     "data": {
      "text/plain": [
       "float"
      ]
     },
     "execution_count": 9,
     "metadata": {},
     "output_type": "execute_result"
    }
   ],
   "source": [
    "type(1.5)"
   ]
  },
  {
   "cell_type": "code",
   "execution_count": 10,
   "id": "b57e9f24",
   "metadata": {},
   "outputs": [
    {
     "data": {
      "text/plain": [
       "complex"
      ]
     },
     "execution_count": 10,
     "metadata": {},
     "output_type": "execute_result"
    }
   ],
   "source": [
    "type(2j)"
   ]
  },
  {
   "cell_type": "code",
   "execution_count": 10,
   "id": "70f204ce",
   "metadata": {},
   "outputs": [
    {
     "name": "stdout",
     "output_type": "stream",
     "text": [
      "(-1+0j)\n"
     ]
    }
   ],
   "source": [
    "print (1j * 1j)\n",
    "# j is the imaginary unit in Python (i in mathematics). It is the square root of -1."
   ]
  },
  {
   "cell_type": "code",
   "execution_count": 15,
   "id": "f3ecf323",
   "metadata": {},
   "outputs": [
    {
     "name": "stdout",
     "output_type": "stream",
     "text": [
      "4.0\n"
     ]
    }
   ],
   "source": [
    "import math\n",
    "\n",
    "x = 16  #Change this value to -1 and see what happens!\n",
    "square_root_x = math.sqrt(x)\n",
    "print (square_root_x)"
   ]
  },
  {
   "attachments": {},
   "cell_type": "markdown",
   "id": "668b8b5d",
   "metadata": {},
   "source": [
    "1j * 1j = 1 * j * 1 * j\n",
    "        = 1 * 1 * j * j     (commutative property of multiplication)\n",
    "        = 1 * 1 * (sqrt(-1) * sqrt(-1))   (substituting j = sqrt(-1))\n",
    "        = 1 * 1 * (-1)         (since sqrt(-1) * sqrt(-1) = -1)\n",
    "        = -1\n",
    "\n",
    "The output of 1j * 1j in Python is (-1+0j), which is equivalent to -1. \n",
    "The 0j in the output indicates that the result is a complex number with a real part of -1 and an imaginary part of 0."
   ]
  },
  {
   "cell_type": "markdown",
   "id": "d6b29b9e",
   "metadata": {},
   "source": [
    "## Strings"
   ]
  },
  {
   "cell_type": "code",
   "execution_count": 16,
   "id": "4b72f826",
   "metadata": {},
   "outputs": [
    {
     "data": {
      "text/plain": [
       "'Sadra'"
      ]
     },
     "execution_count": 16,
     "metadata": {},
     "output_type": "execute_result"
    }
   ],
   "source": [
    "'String 1 ' + 'String 2'\n",
    "'Sad' + 'ra'"
   ]
  },
  {
   "cell_type": "code",
   "execution_count": 17,
   "id": "14c2ced2",
   "metadata": {},
   "outputs": [
    {
     "name": "stdout",
     "output_type": "stream",
     "text": [
      "11\n",
      "13\n"
     ]
    }
   ],
   "source": [
    "print ('1' + '1')\n",
    "\n",
    "print ('1' + '3') #not 4! they are strings, not numbers.\n",
    "\n",
    "'1' + 1 #this will give an error"
   ]
  },
  {
   "cell_type": "markdown",
   "id": "9afbc149",
   "metadata": {},
   "source": [
    "## Booleans"
   ]
  },
  {
   "cell_type": "code",
   "execution_count": 15,
   "id": "a3d9b9bc",
   "metadata": {},
   "outputs": [
    {
     "data": {
      "text/plain": [
       "True"
      ]
     },
     "execution_count": 15,
     "metadata": {},
     "output_type": "execute_result"
    }
   ],
   "source": [
    "True"
   ]
  },
  {
   "cell_type": "code",
   "execution_count": 16,
   "id": "a8379a41",
   "metadata": {},
   "outputs": [
    {
     "data": {
      "text/plain": [
       "False"
      ]
     },
     "execution_count": 16,
     "metadata": {},
     "output_type": "execute_result"
    }
   ],
   "source": [
    "False"
   ]
  },
  {
   "cell_type": "code",
   "execution_count": 22,
   "id": "e3c34286",
   "metadata": {},
   "outputs": [],
   "source": [
    "true = True"
   ]
  },
  {
   "cell_type": "code",
   "execution_count": 23,
   "id": "85d586ae",
   "metadata": {},
   "outputs": [
    {
     "data": {
      "text/plain": [
       "True"
      ]
     },
     "execution_count": 23,
     "metadata": {},
     "output_type": "execute_result"
    }
   ],
   "source": [
    "1 == 1"
   ]
  },
  {
   "cell_type": "code",
   "execution_count": 24,
   "id": "4992ca39",
   "metadata": {},
   "outputs": [
    {
     "data": {
      "text/plain": [
       "False"
      ]
     },
     "execution_count": 24,
     "metadata": {},
     "output_type": "execute_result"
    }
   ],
   "source": [
    "1 == 2"
   ]
  },
  {
   "cell_type": "code",
   "execution_count": 25,
   "id": "bde64579",
   "metadata": {},
   "outputs": [
    {
     "data": {
      "text/plain": [
       "True"
      ]
     },
     "execution_count": 25,
     "metadata": {},
     "output_type": "execute_result"
    }
   ],
   "source": [
    "1j * 1j == -1"
   ]
  },
  {
   "cell_type": "code",
   "execution_count": null,
   "id": "eadd21d3",
   "metadata": {},
   "outputs": [],
   "source": []
  }
 ],
 "metadata": {
  "kernelspec": {
   "display_name": "Python 3 (ipykernel)",
   "language": "python",
   "name": "python3"
  },
  "language_info": {
   "codemirror_mode": {
    "name": "ipython",
    "version": 3
   },
   "file_extension": ".py",
   "mimetype": "text/x-python",
   "name": "python",
   "nbconvert_exporter": "python",
   "pygments_lexer": "ipython3",
   "version": "3.10.9"
  }
 },
 "nbformat": 4,
 "nbformat_minor": 5
}
